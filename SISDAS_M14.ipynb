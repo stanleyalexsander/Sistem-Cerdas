{
  "nbformat": 4,
  "nbformat_minor": 0,
  "metadata": {
    "colab": {
      "provenance": []
    },
    "kernelspec": {
      "name": "python3",
      "display_name": "Python 3"
    },
    "language_info": {
      "name": "python"
    }
  },
  "cells": [
    {
      "cell_type": "code",
      "execution_count": 44,
      "metadata": {
        "id": "x8Kyt7bpYBKX"
      },
      "outputs": [],
      "source": [
        "# Import library\n",
        "import pandas as pd\n",
        "import numpy as np\n",
        "import tensorflow as tf\n",
        "from tensorflow.keras.models import Model\n",
        "from tensorflow.keras.layers import Input, Embedding, Flatten, Concatenate, Dense\n",
        "from sklearn.model_selection import train_test_split\n",
        "from sklearn.preprocessing import MinMaxScaler"
      ]
    },
    {
      "cell_type": "code",
      "source": [
        "# Load dataset\n",
        "# Memuat data pengguna, film, dan rating dari dataset MovieLens\n",
        "# Melakukan preprocessing data seperti normalisasi, pembagian data latih dan uji, dll\n",
        "\n",
        "links = pd.read_csv('links.csv')\n",
        "movies = pd.read_csv('movies.csv')\n",
        "tags = pd.read_csv('tags.csv')\n",
        "ratings = pd.read_csv('ratings.csv')\n",
        "\n",
        "# Menggabungkan data film dan data penilaian\n",
        "movies_ratings = pd.merge(ratings, movies, on='movieId')\n",
        "\n",
        "# Menghapus nilai kosong\n",
        "movies_ratings = movies_ratings.dropna()\n",
        "\n",
        "# Mapping user and item ID ke bilangan bulat berurutan\n",
        "user_mapping = {user_id: idx for idx, user_id in enumerate(movies_ratings['userId'].unique())}\n",
        "item_mapping = {item_id: idx for idx, item_id in enumerate(movies_ratings['movieId'].unique())}\n",
        "\n",
        "num_users = len(user_mapping)\n",
        "num_items = len(item_mapping)\n",
        "\n",
        "movies_ratings['user'] = movies_ratings['userId'].map(user_mapping)\n",
        "movies_ratings['item'] = movies_ratings['movieId'].map(item_mapping)\n",
        "\n",
        "# Normalisasi data dengan min-max scaling\n",
        "scaler = MinMaxScaler()\n",
        "movies_ratings['rating_normalized'] = scaler.fit_transform(movies_ratings[['rating']])\n",
        "\n",
        "# Membagi data menjadi data latih dan data uji dengan perbandingan 80% dan 20%\n",
        "train, test = train_test_split(movies_ratings, test_size=0.2, random_state=42)\n",
        "\n",
        "# Inisiasliasi data latih\n",
        "train_user = np.array(train['user'])\n",
        "train_item = np.array(train['item'])\n",
        "train_ratings = np.array(train['rating_normalized'])\n",
        "\n",
        "# Inisialisasi data uji\n",
        "test_user = np.array(test['user'])\n",
        "test_item = np.array(test['item'])\n",
        "test_ratings = np.array(test['rating_normalized'])"
      ],
      "metadata": {
        "id": "pvtJY2XqYJnN"
      },
      "execution_count": 45,
      "outputs": []
    },
    {
      "cell_type": "code",
      "source": [
        "# Create model\n",
        "# Membangun model NCF menggunakan TensorFlow/Keras\n",
        "def create_ncf_model(num_users, num_items, latent_dim=8):\n",
        "  # Input layer untuk user\n",
        "  user_input = Input(shape=(1,))\n",
        "  user_embedding = Embedding(num_users, latent_dim)(user_input)\n",
        "  user_flat = Flatten()(user_embedding)\n",
        "  # Input layer untuk item (film)\n",
        "  item_input = Input(shape=(1,))\n",
        "  item_embedding = Embedding(num_items, latent_dim)(item_input)\n",
        "  item_flat = Flatten()(item_embedding)\n",
        "  # Concatenate user dan item embeddings\n",
        "  concat = Concatenate()([user_flat, item_flat])\n",
        "  # Fully connected layer\n",
        "  hidden = Dense(64, activation='relu')(concat)\n",
        "  output = Dense(1, activation='sigmoid')(hidden)\n",
        "  # Compile model\n",
        "  model = Model(inputs=[user_input, item_input], outputs=output)\n",
        "  model.compile(loss='mean_squared_error', optimizer='adam')\n",
        "  return model"
      ],
      "metadata": {
        "id": "IE-ukag8Ysgw"
      },
      "execution_count": 46,
      "outputs": []
    },
    {
      "cell_type": "code",
      "source": [
        "# Train model\n",
        "# Melatih model menggunakan data latih\n",
        "model = create_ncf_model(num_users, num_items)\n",
        "model.fit([train_user, train_item], train_ratings, batch_size=64, epochs=10,\n",
        "validation_data=([test_user, test_item], test_ratings))"
      ],
      "metadata": {
        "colab": {
          "base_uri": "https://localhost:8080/"
        },
        "id": "WYEs1xSFY0BP",
        "outputId": "a761ee57-3890-433f-bd37-57b4e6ce778f"
      },
      "execution_count": 47,
      "outputs": [
        {
          "output_type": "stream",
          "name": "stdout",
          "text": [
            "Epoch 1/10\n",
            "1261/1261 [==============================] - 7s 5ms/step - loss: 0.0419 - val_loss: 0.0376\n",
            "Epoch 2/10\n",
            "1261/1261 [==============================] - 7s 5ms/step - loss: 0.0351 - val_loss: 0.0370\n",
            "Epoch 3/10\n",
            "1261/1261 [==============================] - 5s 4ms/step - loss: 0.0330 - val_loss: 0.0364\n",
            "Epoch 4/10\n",
            "1261/1261 [==============================] - 6s 4ms/step - loss: 0.0317 - val_loss: 0.0367\n",
            "Epoch 5/10\n",
            "1261/1261 [==============================] - 6s 5ms/step - loss: 0.0307 - val_loss: 0.0367\n",
            "Epoch 6/10\n",
            "1261/1261 [==============================] - 6s 5ms/step - loss: 0.0297 - val_loss: 0.0369\n",
            "Epoch 7/10\n",
            "1261/1261 [==============================] - 7s 5ms/step - loss: 0.0287 - val_loss: 0.0373\n",
            "Epoch 8/10\n",
            "1261/1261 [==============================] - 5s 4ms/step - loss: 0.0278 - val_loss: 0.0375\n",
            "Epoch 9/10\n",
            "1261/1261 [==============================] - 7s 5ms/step - loss: 0.0271 - val_loss: 0.0381\n",
            "Epoch 10/10\n",
            "1261/1261 [==============================] - 5s 4ms/step - loss: 0.0265 - val_loss: 0.0383\n"
          ]
        },
        {
          "output_type": "execute_result",
          "data": {
            "text/plain": [
              "<keras.src.callbacks.History at 0x7b4dd431d5a0>"
            ]
          },
          "metadata": {},
          "execution_count": 47
        }
      ]
    },
    {
      "cell_type": "code",
      "source": [
        "# Evaluate model\n",
        "# Evaluasi model menggunakan data uji\n",
        "test_loss = model.evaluate([test_user, test_item], test_ratings)\n",
        "print(f\"Test Loss: {test_loss}\")"
      ],
      "metadata": {
        "colab": {
          "base_uri": "https://localhost:8080/"
        },
        "id": "ZayONMdyY3a6",
        "outputId": "4a510a9f-50a3-4888-ce2c-3cf3574b8c8a"
      },
      "execution_count": 48,
      "outputs": [
        {
          "output_type": "stream",
          "name": "stdout",
          "text": [
            "631/631 [==============================] - 1s 2ms/step - loss: 0.0383\n",
            "Test Loss: 0.03831171616911888\n"
          ]
        }
      ]
    },
    {
      "cell_type": "code",
      "source": [
        "# Make recommendations\n",
        "# Menggunakan model untuk membuat rekomendasi untuk pengguna tertentu\n",
        "def movies_not_rated_by_user(user_id):\n",
        "    user_rated_movies = set(movies_ratings[movies_ratings['user'] == user_mapping[user_id]]['item'])\n",
        "    all_movies = set(range(num_items))\n",
        "    not_rated_movies = all_movies - user_rated_movies\n",
        "    return list(not_rated_movies)\n",
        "\n",
        "def get_movie_titles(movie_ids):\n",
        "    movie_titles = movies[movies['movieId'].isin(movie_ids)]['title'].tolist()\n",
        "    return movie_titles\n",
        "\n",
        "user_id = 83\n",
        "user_movies = movies_not_rated_by_user(user_id)\n",
        "user_input = np.array([user_id] * len(user_movies))\n",
        "user_movies_input = np.array(user_movies)\n",
        "predictions = model.predict([user_input, user_movies_input]).flatten()\n",
        "recommended_movie_indices = np.argsort(predictions)[::-1][:10]\n",
        "recommended_movie_ids = [user_movies[idx] for idx in recommended_movie_indices]"
      ],
      "metadata": {
        "colab": {
          "base_uri": "https://localhost:8080/"
        },
        "id": "REc7KdkhY5g5",
        "outputId": "70430090-49eb-4620-d41d-590cffc29fad"
      },
      "execution_count": 53,
      "outputs": [
        {
          "output_type": "stream",
          "name": "stdout",
          "text": [
            "301/301 [==============================] - 1s 2ms/step\n"
          ]
        }
      ]
    },
    {
      "cell_type": "code",
      "source": [
        "# Display recommended movies to the user\n",
        "recommended_movies = get_movie_titles(recommended_movie_ids)\n",
        "print(\"Recommended movies for user\", user_id, \":\", recommended_movies)"
      ],
      "metadata": {
        "colab": {
          "base_uri": "https://localhost:8080/"
        },
        "id": "UZwgqEhnY7vv",
        "outputId": "fb3ae4ba-ba7c-4daa-af14-98f1c8bfa90a"
      },
      "execution_count": 54,
      "outputs": [
        {
          "output_type": "stream",
          "name": "stdout",
          "text": [
            "Recommended movies for user 83 : ['Black Tar Heroin: The Dark End of the Street (2000)', \"Cutter's Way (1981)\", 'Ice Age (2002)', 'City Heat (1984)', 'Sweet Sixteen (2002)', 'Going in Style (1979)']\n"
          ]
        }
      ]
    }
  ]
}